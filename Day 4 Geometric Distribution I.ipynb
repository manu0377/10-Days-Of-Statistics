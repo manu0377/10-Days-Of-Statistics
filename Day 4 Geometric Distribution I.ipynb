{
 "cells": [
  {
   "cell_type": "code",
   "execution_count": null,
   "metadata": {},
   "outputs": [],
   "source": [
    "# Set data\n",
    "probability = list(map(int, input().split()))\n",
    "p = probability[0] / probability[1]\n",
    "q = 1 - p\n",
    "n = int(input())\n",
    "\n",
    "# Get Geometric Distribution\n",
    "result = q ** (n - 1) * p\n",
    "print(round(result, 3))"
   ]
  }
 ],
 "metadata": {
  "kernelspec": {
   "display_name": "Python 3",
   "language": "python",
   "name": "python3"
  },
  "language_info": {
   "codemirror_mode": {
    "name": "ipython",
    "version": 3
   },
   "file_extension": ".py",
   "mimetype": "text/x-python",
   "name": "python",
   "nbconvert_exporter": "python",
   "pygments_lexer": "ipython3",
   "version": "3.6.4"
  }
 },
 "nbformat": 4,
 "nbformat_minor": 2
}
