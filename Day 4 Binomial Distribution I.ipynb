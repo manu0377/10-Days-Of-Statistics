{
 "cells": [
  {
   "cell_type": "code",
   "execution_count": null,
   "metadata": {},
   "outputs": [],
   "source": [
    "# Enter your code here. Read input from STDIN. Print output to STDOUT\n",
    "\n",
    "# Define functions\n",
    "def factorial(n):\n",
    "    if n == 1 or n == 0:\n",
    "        return 1\n",
    "    if n > 1:\n",
    "        return factorial(n - 1) * n\n",
    "\n",
    "def binomial(x, n, p):\n",
    "    f = factorial(n) / (factorial(n - x) * factorial(x))\n",
    "    return (f * p**x * (1.0 - p)**(n-x))\n",
    "\n",
    "# Set data\n",
    "values = list(map(float, input().split()))\n",
    "p = values[0] / (values[0] + values[1])\n",
    "n = 6\n",
    "\n",
    "# Get binomial result\n",
    "result = binomial(3,n,p) + binomial(4,n,p) + binomial(5,n,p) + binomial(6,n,p)\n",
    "print(round(result, 3))"
   ]
  }
 ],
 "metadata": {
  "kernelspec": {
   "display_name": "Python 3",
   "language": "python",
   "name": "python3"
  },
  "language_info": {
   "codemirror_mode": {
    "name": "ipython",
    "version": 3
   },
   "file_extension": ".py",
   "mimetype": "text/x-python",
   "name": "python",
   "nbconvert_exporter": "python",
   "pygments_lexer": "ipython3",
   "version": "3.6.4"
  }
 },
 "nbformat": 4,
 "nbformat_minor": 2
}
