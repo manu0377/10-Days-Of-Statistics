{
 "cells": [
  {
   "cell_type": "code",
   "execution_count": null,
   "metadata": {},
   "outputs": [],
   "source": [
    "# Set data\n",
    "probability = list(map(int, input().split()))\n",
    "p = probability[0] / probability[1]\n",
    "q = 1 - p\n",
    "n = int(input())\n",
    "\n",
    "# Get Geometric Distribution\n",
    "result = 0\n",
    "for i in range(n + 1):\n",
    "    if i > 0:\n",
    "        result = result + (q ** (i - 1) * p)\n",
    "\n",
    "# Show the final result\n",
    "print(round(result, 3))"
   ]
  }
 ],
 "metadata": {
  "kernelspec": {
   "display_name": "Python 3",
   "language": "python",
   "name": "python3"
  },
  "language_info": {
   "codemirror_mode": {
    "name": "ipython",
    "version": 3
   },
   "file_extension": ".py",
   "mimetype": "text/x-python",
   "name": "python",
   "nbconvert_exporter": "python",
   "pygments_lexer": "ipython3",
   "version": "3.6.4"
  }
 },
 "nbformat": 4,
 "nbformat_minor": 2
}
