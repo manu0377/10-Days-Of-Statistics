{
 "cells": [
  {
   "cell_type": "code",
   "execution_count": null,
   "metadata": {},
   "outputs": [],
   "source": [
    "# Enter your code here. Read input from STDIN. Print output to STDOUT\n",
    "\n",
    "# Define functions\n",
    "def median(size, values):\n",
    "    if size % 2 == 0:\n",
    "        median = (values[int(size/2)-1] + values[int(size/2)]) / 2\n",
    "    else:\n",
    "        median = values[int(size/2)]\n",
    "    return int(median)\n",
    "\n",
    "# Set the data\n",
    "size = int(input())\n",
    "numbers = sorted(list(map(int, input().split())))\n",
    "\n",
    "# Verify that the total data is even or odd\n",
    "if size % 2 == 0:\n",
    "    data_low = numbers[0:int(size/2)]\n",
    "    data_high = numbers[int(size/2):size]\n",
    "else:\n",
    "    data_low = numbers[0:int(size/2)]\n",
    "    data_high = numbers[int(size/2)+1:size]\n",
    "\n",
    "# Get the final result and print on the screen\n",
    "print (median(len(data_low), data_low))\n",
    "print (median(size, numbers))\n",
    "print (median(len(data_high), data_high))"
   ]
  }
 ],
 "metadata": {
  "kernelspec": {
   "display_name": "Python 3",
   "language": "python",
   "name": "python3"
  },
  "language_info": {
   "codemirror_mode": {
    "name": "ipython",
    "version": 3
   },
   "file_extension": ".py",
   "mimetype": "text/x-python",
   "name": "python",
   "nbconvert_exporter": "python",
   "pygments_lexer": "ipython3",
   "version": "3.6.4"
  }
 },
 "nbformat": 4,
 "nbformat_minor": 2
}
