{
 "cells": [
  {
   "cell_type": "code",
   "execution_count": null,
   "metadata": {},
   "outputs": [],
   "source": [
    "# Enter your code here. Read input from STDIN. Print output to STDOUT\n",
    "\n",
    "# Import library\n",
    "import math\n",
    "\n",
    "# Define functionts\n",
    "def mean(data):\n",
    "    return sum(data) / len(data)\n",
    "\n",
    "def stddev(data, size):\n",
    "    sum = 0\n",
    "    for i in range(size):\n",
    "        sum = sum + (data[i] - mean(data)) ** 2\n",
    "    return math.sqrt(sum / size)\n",
    "\n",
    "# Set data\n",
    "size = int(input())\n",
    "numbers = list(map(int, input().split()))\n",
    "\n",
    "# Get standard deviation\n",
    "print(round(stddev(numbers, size), 1))"
   ]
  }
 ],
 "metadata": {
  "kernelspec": {
   "display_name": "Python 3",
   "language": "python",
   "name": "python3"
  },
  "language_info": {
   "codemirror_mode": {
    "name": "ipython",
    "version": 3
   },
   "file_extension": ".py",
   "mimetype": "text/x-python",
   "name": "python",
   "nbconvert_exporter": "python",
   "pygments_lexer": "ipython3",
   "version": "3.6.4"
  }
 },
 "nbformat": 4,
 "nbformat_minor": 2
}
