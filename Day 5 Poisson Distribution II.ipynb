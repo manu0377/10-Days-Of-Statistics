{
 "cells": [
  {
   "cell_type": "code",
   "execution_count": null,
   "metadata": {},
   "outputs": [],
   "source": [
    "# Set data\n",
    "lambdas = list(map(float, input().split()))\n",
    "lambda_a = lambdas[0]\n",
    "lambda_b = lambdas[1]\n",
    "\n",
    "# Gets the result and show on the screen\n",
    "print (round(160 + 40 * (lambda_a + lambda_a ** 2), 3))\n",
    "print (round(128 + 40 * (lambda_b + lambda_b ** 2), 3))"
   ]
  }
 ],
 "metadata": {
  "kernelspec": {
   "display_name": "Python 3",
   "language": "python",
   "name": "python3"
  },
  "language_info": {
   "codemirror_mode": {
    "name": "ipython",
    "version": 3
   },
   "file_extension": ".py",
   "mimetype": "text/x-python",
   "name": "python",
   "nbconvert_exporter": "python",
   "pygments_lexer": "ipython3",
   "version": "3.6.4"
  }
 },
 "nbformat": 4,
 "nbformat_minor": 2
}
